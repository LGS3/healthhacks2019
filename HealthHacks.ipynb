{
  "nbformat": 4,
  "nbformat_minor": 0,
  "metadata": {
    "colab": {
      "name": "HealthHacks.ipynb",
      "provenance": [],
      "collapsed_sections": [],
      "toc_visible": true,
      "include_colab_link": true
    },
    "kernelspec": {
      "name": "python3",
      "display_name": "Python 3"
    }
  },
  "cells": [
    {
      "cell_type": "markdown",
      "metadata": {
        "id": "view-in-github",
        "colab_type": "text"
      },
      "source": [
        "<a href=\"https://colab.research.google.com/github/khancon/healthhacks2019/blob/master/HealthHacks.ipynb\" target=\"_parent\"><img src=\"https://colab.research.google.com/assets/colab-badge.svg\" alt=\"Open In Colab\"/></a>"
      ]
    },
    {
      "cell_type": "markdown",
      "metadata": {
        "id": "8GDdhpCQPIG8",
        "colab_type": "text"
      },
      "source": [
        "# Project:\n",
        "\n",
        "Describe Malaria ML\n"
      ]
    },
    {
      "cell_type": "code",
      "metadata": {
        "id": "q8EDe4IGZiME",
        "colab_type": "code",
        "colab": {}
      },
      "source": [
        "#Parasitized = 'https://github.com/khancon/healthhacks2019/tree/master/Parasitized'\n",
        "#Uninfected = 'https://github.com/khancon/healthhacks2019/tree/master/Uninfected'\n",
        "#cell_images = 'https://github.com/khancon/healthhacks2019/tree/master/cell_images'"
      ],
      "execution_count": 0,
      "outputs": []
    },
    {
      "cell_type": "code",
      "metadata": {
        "id": "uI5b6zy_D8V-",
        "colab_type": "code",
        "colab": {}
      },
      "source": [
        "from google.colab import drive\n",
        "drive.mount('/content/drive')"
      ],
      "execution_count": 0,
      "outputs": []
    },
    {
      "cell_type": "code",
      "metadata": {
        "id": "pN2SRjWPD9uq",
        "colab_type": "code",
        "colab": {}
      },
      "source": [
        "p = !unzip Parasitized.zip"
      ],
      "execution_count": 0,
      "outputs": []
    },
    {
      "cell_type": "code",
      "metadata": {
        "id": "C8WIr7WXD_X-",
        "colab_type": "code",
        "colab": {}
      },
      "source": [
        "u = !unzip Uninfected.zip"
      ],
      "execution_count": 0,
      "outputs": []
    },
    {
      "cell_type": "code",
      "metadata": {
        "id": "FLja4iXVECWc",
        "colab_type": "code",
        "colab": {}
      },
      "source": [
        "# For data manipulation and visualization\n",
        "import numpy as np\n",
        "np.random.seed(42)\n",
        "import pandas as pd\n",
        "import matplotlib.pyplot as plt\n",
        "%matplotlib inline\n",
        "from sklearn.model_selection import train_test_split\n",
        "\n",
        "# For working with images\n",
        "import os\n",
        "import cv2\n",
        "from PIL import Image\n",
        "import bs4\n",
        "import requests\n",
        "\n",
        "\n",
        "\n",
        "X=[];\n",
        "label=[];\n",
        "\n",
        "r = requests.get(Parasitized)\n",
        "data = bs4.BeautifulSoup(r.text, \"html.parser\")\n",
        "\n",
        "#for l in data.find_all(\"a\"):\n",
        "for l in p:\n",
        "    r = requests.get(Parasitized + l[\"href\"])\n",
        "    X.append(r);\n",
        "    label.append(1)\n",
        "    \n",
        "    \n",
        "r = requests.get(Uninfected)\n",
        "data = bs4.BeautifulSoup(r.text, \"html.parser\")\n",
        "\n",
        "for l in data.find_all(\"a\"):\n",
        "    r = requests.get(Uninfected + l[\"href\"])\n",
        "    X.append(r);\n",
        "    label.append(0)"
      ],
      "execution_count": 0,
      "outputs": []
    },
    {
      "cell_type": "code",
      "metadata": {
        "id": "ibUgVVPkfLOy",
        "colab_type": "code",
        "colab": {}
      },
      "source": [
        "X.head"
      ],
      "execution_count": 0,
      "outputs": []
    },
    {
      "cell_type": "markdown",
      "metadata": {
        "id": "R2VxIsf8PIF3",
        "colab_type": "text"
      },
      "source": [
        "# Process and Clean Input"
      ]
    },
    {
      "cell_type": "code",
      "metadata": {
        "id": "4stQf0GuEFzb",
        "colab_type": "code",
        "colab": {}
      },
      "source": [
        "# DATA_DIR = '../input/cell_images/cell_images/'\n",
        "SIZE = 64\n",
        "# dataset = []\n",
        "# label = []\n",
        "\n",
        "# parasitized_images = os.listdir(DATA_DIR + 'Parasitized/')\n",
        "# for i, image_name in enumerate(parasitized_images):\n",
        "#     try:\n",
        "#         if (image_name.split('.')[1] == 'png'):\n",
        "#             image = cv2.imread(DATA_DIR + 'Parasitized/' + image_name)\n",
        "#             image = Image.fromarray(image, 'RGB')\n",
        "#             image = image.resize((SIZE, SIZE))\n",
        "#             dataset.append(np.array(image))\n",
        "#             label.append(0)\n",
        "#     except Exception:\n",
        "#         print(\"Could not read image {} with name {}\".format(i, image_name))\n",
        "\n",
        "\n",
        "# #uninfected image input)\n",
        "# uninfected_images = os.listdir(DATA_DIR + 'Uninfected/')\n",
        "# for i, image_name in enumerate(uninfected_images):\n",
        "#     try:\n",
        "#         if (image_name.split('.')[1] == 'png'):\n",
        "#             image = cv2.imread(DATA_DIR + 'Uninfected/' + image_name)\n",
        "#             image = Image.fromarray(image, 'RGB')\n",
        "#             image = image.resize((SIZE, SIZE))\n",
        "#             dataset.append(np.array(image))\n",
        "#             label.append(1)\n",
        "#     except Exception:\n",
        "#         print(\"Could not read image {} with name {}\".format(i, image_name))\n",
        "\n",
        "#Plot some parisitized cells\n",
        "plt.figure(figsize = (20, 12))\n",
        "for index, image_index in enumerate(np.random.randint(len(parasitized_images), size = 5)):\n",
        "    plt.subplot(1, 5, index+1)\n",
        "    plt.imshow(dataset[image_index])\n",
        "\n",
        "#plot some healthy cells\n",
        "plt.figure(figsize = (20, 12))\n",
        "for index, image_index in enumerate(np.random.randint(len(uninfected_images), size = 5)):\n",
        "    plt.subplot(1, 5, index+1)\n",
        "    plt.imshow(dataset[len(parasitized_images) + image_index])\n",
        "\n",
        "#form training and testing data set\n",
        "\n"
      ],
      "execution_count": 0,
      "outputs": []
    },
    {
      "cell_type": "code",
      "metadata": {
        "id": "PsDGgE5xkrB-",
        "colab_type": "code",
        "colab": {}
      },
      "source": [
        "#Reference: for deskew moment and deskew() method -- https://www.kaggle.com/sanesanyo/digit-recognition-using-svm-with-98-accuracy/notebook\n",
        "from sklearn.model_selection import GridSearchCV\n",
        "from sklearn.datasets import fetch_openml\n",
        "import pandas as pd\n",
        "import numpy as np\n",
        "from numpy import arange\n",
        "import pylab as pl\n",
        "from sklearn.pipeline import Pipeline\n",
        "from sklearn.preprocessing import PolynomialFeatures\n",
        "from sklearn.preprocessing import StandardScaler\n",
        "from sklearn.svm import SVC\n",
        "from sklearn.metrics import accuracy_score\n",
        "import math\n",
        "import seaborn as sns\n",
        "from sklearn.utils import shuffle\n",
        "from sklearn.metrics import confusion_matrix,classification_report\n",
        "from scipy.ndimage import interpolation\n",
        "import random\n",
        "%matplotlib inline \n",
        "\n",
        "=\n",
        "nTrain = 20000\n",
        "nTest = 7558 \n",
        "\n",
        "# Define training and testing sets\n",
        "\n",
        "random.seed(0)\n",
        "train_idx = arange(0,nTrain)\n",
        "test_idx = arange(nTrain+1,nTrain+nTest)\n",
        "\n",
        "from scipy.ndimage import interpolation\n",
        "\n",
        "X_train, Y_train_label = X[train_idx],label[train_idx]\n",
        "X_test, Y_test_label = X[test_idx], label[test_idx]\n",
        "\n",
        "def moments(image):\n",
        "    c0,c1 = np.mgrid[:image.shape[0],:image.shape[1]] # A trick in numPy to create a mesh grid\n",
        "    totalImage = np.sum(image) #sum of pixels\n",
        "    m0 = np.sum(c0*image)/totalImage #mu_x\n",
        "    m1 = np.sum(c1*image)/totalImage #mu_y\n",
        "    m00 = np.sum((c0-m0)**2*image)/totalImage #var(x)\n",
        "    m11 = np.sum((c1-m1)**2*image)/totalImage #var(y)\n",
        "    m01 = np.sum((c0-m0)*(c1-m1)*image)/totalImage #covariance(x,y)\n",
        "    mu_vector = np.array([m0,m1]) # Notice that these are \\mu_x, \\mu_y respectively\n",
        "    covariance_matrix = np.array([[m00,m01],[m01,m11]]) # Do you see a similarity between the covariance matrix\n",
        "    return mu_vector, covariance_matrix\n",
        "# Function used for deskewing the image which internally first calls the moment function described above\n",
        "def deskew(image):\n",
        "    c,v = moments(image)\n",
        "    alpha = v[0,1]/v[0,0]\n",
        "    affine = np.array([[1,0],[alpha,1]])\n",
        "    ocenter = np.array(image.shape)/2.0\n",
        "    offset = c-np.dot(affine,ocenter)\n",
        "    return interpolation.affine_transform(image,affine,offset=offset)\n",
        "# Function for scaling the data between 0 and 1\n",
        "def deskewer(X):\n",
        "\n",
        "    counter=0;\n",
        "    for image in X:\n",
        "      X[counter]=deskew(image.reshape(28,28)).reshape(1, 784)\n",
        "      counter+=1;\n",
        "      \n",
        "    return X;\n",
        "\n",
        "def print_sample(index, X_train):\n",
        "  first_image = X_train[index]\n",
        "  first_image = np.array(first_image, dtype='float')\n",
        "  pixels = first_image.reshape((28, 28))\n",
        "  plt.imshow(pixels, cmap='RGB')\n",
        "  plt.show()\n",
        "  print(\"Cell #\",index, \"Status:\", label[index])\n",
        "\n",
        "#DATA CLEANING Pipeline\n",
        "\n",
        "#sample before deskew\n",
        "print_sample(90,X_train)\n",
        "print_sample(33,X_train)\n",
        "print_sample(59,X_train)\n",
        "\n",
        "#deskew\n",
        "X_train=deskewer(X_train);\n",
        "\n",
        "#print deskewed data  \n",
        "print_sample(90,X_train)\n",
        "print_sample(33,X_train)\n",
        "print_sample(59,X_train)\n",
        "\n",
        "#test the RBF SVM Classifier accuracy in simple single run on our current sample size\n",
        "from sklearn.metrics import accuracy_score\n",
        "sample_size=6000;\n",
        "sample_limit=sample_size+1000;\n",
        "\n",
        "rbf_clf = SVC(kernel='rbf', C=.1, gamma=.001)\n",
        "rbf_clf.fit(X_train_test[:sample_size], Y_train[:sample_size])\n",
        "Y_pred = rbf_clf.predict(X_train_test[sample_size:sample_limit])\n",
        "acc = accuracy_score(Y_train[sample_size:sample_limit], Y_pred)\n",
        "print(acc)\n",
        "print(confusion_matrix(Y_train[sample_size:sample_limit],Y_pred))\n",
        "print(\"\\n\")\n",
        "print(classification_report(Y_train[sample_size:sample_limit],Y_pred))\n",
        "acc = accuracy_score(Y_train[sample_size:sample_limit], Y_pred)\n",
        "print(acc)\n",
        "\n",
        "from sklearn.model_selection import RandomizedSearchCV\n",
        "import scipy\n",
        "\n",
        "sample_size=9000;\n",
        "\n",
        "params_grid = [{'kernel': ['rbf'], 'decision_function_shape':['ovo'], 'gamma': [1e-2, 1e-3, 1e-4, 1e-5],\n",
        "                     'C': [.1, 1, 10, 100, 1000, 10000]}]\n",
        "\n",
        "\n",
        "svm_model = GridSearchCV(SVC(), params_grid, cv=5, scoring='accuracy', n_jobs=-1)\n",
        "svm_model.fit(X_train_test[:sample_size], Y_train[:sample_size])\n",
        "\n"
      ],
      "execution_count": 0,
      "outputs": []
    },
    {
      "cell_type": "markdown",
      "metadata": {
        "id": "MrYk3BV3Pdq-",
        "colab_type": "text"
      },
      "source": [
        "# SVM Setup"
      ]
    },
    {
      "cell_type": "code",
      "metadata": {
        "id": "r3lOHOE3PdED",
        "colab_type": "code",
        "colab": {}
      },
      "source": [
        "from sklearn.datasets import fetch_openml\n",
        "from sklearn.svm import SVC, LinearSVC\n",
        "from sklearn.linear_model import SGDClassifier\n",
        "from sklearn.preprocessing import StandardScaler\n",
        "from sklearn.metrics import accuracy_score\n",
        "import numpy as np\n",
        "\n",
        "# mnist = fetch_openml('mnist_784', version=1, cache=True)\n",
        "\n",
        "\n",
        "X = mnist[0]\n",
        "y = mnist[\"target\"].astype(np.uint8)\n",
        "\n",
        "from keras.utils import to_categorical\n",
        "\n",
        "X_train, X_test, y_train, y_test = train_test_split(dataset, to_categorical(np.array(label)), test_size = 0.20, random_state = 0)\n",
        "\n",
        "\n",
        "\n",
        "\n",
        "lin_clf = LinearSVC(random_state=42)\n",
        "lin_clf.fit(X_train, y_train)\n",
        "\n",
        "\n",
        "\n",
        "scaler = StandardScaler()\n",
        "X_train_scaled = scaler.fit_transform(X_train.astype(np.float32))\n",
        "X_test_scaled = scaler.transform(X_test.astype(np.float32))\n",
        "\n",
        "\n",
        "lin_clf = LinearSVC(random_state=42)\n",
        "lin_clf.fit(X_train_scaled, y_train)\n",
        "\n",
        "y_pred = lin_clf.predict(X_train_scaled)\n",
        "accuracy_score(y_train, y_pred)\n",
        "\n",
        "# svm_clf = SVC(gamma=\"scale\")\n",
        "# svm_clf.fit(X_train_scaled[:10000], y_train[:10000])\n",
        "\n",
        "# y_pred = svm_clf.predict(X_train_scaled)\n",
        "# accuracy_score(y_train, y_pred)\n",
        "\n",
        "# from sklearn.model_selection import RandomizedSearchCV\n",
        "# from scipy.stats import reciprocal, uniform\n",
        "\n",
        "# param_distributions = {\"gamma\": reciprocal(0.001, 0.1), \"C\": uniform(1, 10)}\n",
        "# rnd_search_cv = RandomizedSearchCV(svm_clf, param_distributions, n_iter=10, verbose=2, cv=3)\n",
        "# rnd_search_cv.fit(X_train_scaled[:1000], y_train[:1000])"
      ],
      "execution_count": 0,
      "outputs": []
    },
    {
      "cell_type": "code",
      "metadata": {
        "id": "mIIpVKO_VS9p",
        "colab_type": "code",
        "colab": {}
      },
      "source": [
        "rnd_search_cv.best_estimator_\n",
        "rnd_search_cv.best_score_"
      ],
      "execution_count": 0,
      "outputs": []
    },
    {
      "cell_type": "code",
      "metadata": {
        "id": "SZ8dfLi1VUwk",
        "colab_type": "code",
        "colab": {}
      },
      "source": [
        "rnd_search_cv.best_estimator_.fit(X_train_scaled, y_train)"
      ],
      "execution_count": 0,
      "outputs": []
    },
    {
      "cell_type": "code",
      "metadata": {
        "id": "pvV6SInCVY9-",
        "colab_type": "code",
        "colab": {}
      },
      "source": [
        "y_pred = rnd_search_cv.best_estimator_.predict(X_train_scaled)\n",
        "accuracy_score(y_train, y_pred)\n",
        "\n",
        "y_pred = rnd_search_cv.best_estimator_.predict(X_test_scaled)\n",
        "accuracy_score(y_test, y_pred)"
      ],
      "execution_count": 0,
      "outputs": []
    }
  ]
}